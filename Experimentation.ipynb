{
 "cells": [
  {
   "cell_type": "markdown",
   "id": "44fb23e5",
   "metadata": {},
   "source": [
    "# Experimentation E-Commerce"
   ]
  },
  {
   "cell_type": "markdown",
   "id": "225701ca",
   "metadata": {},
   "source": [
    "### Import & Data Check"
   ]
  },
  {
   "cell_type": "code",
   "execution_count": 1,
   "id": "6b777bab",
   "metadata": {
    "ExecuteTime": {
     "end_time": "2023-03-18T18:46:25.316039Z",
     "start_time": "2023-03-18T18:46:22.115846Z"
    }
   },
   "outputs": [],
   "source": [
    "# Import libraries\n",
    "import numpy as np\n",
    "import pandas as pd\n",
    "import matplotlib.pyplot as plt\n",
    "import seaborn as sns\n",
    "import scipy.stats as stats\n",
    "import statsmodels.stats.api as sms\n",
    "from math import ceil\n",
    "from statsmodels.stats.proportion import proportions_ztest, proportion_confint\n",
    "\n",
    "%matplotlib inline"
   ]
  },
  {
   "cell_type": "code",
   "execution_count": 2,
   "id": "382d81bb",
   "metadata": {
    "ExecuteTime": {
     "end_time": "2023-03-18T18:46:25.785078Z",
     "start_time": "2023-03-18T18:46:25.318923Z"
    }
   },
   "outputs": [
    {
     "data": {
      "text/html": [
       "<div>\n",
       "<style scoped>\n",
       "    .dataframe tbody tr th:only-of-type {\n",
       "        vertical-align: middle;\n",
       "    }\n",
       "\n",
       "    .dataframe tbody tr th {\n",
       "        vertical-align: top;\n",
       "    }\n",
       "\n",
       "    .dataframe thead th {\n",
       "        text-align: right;\n",
       "    }\n",
       "</style>\n",
       "<table border=\"1\" class=\"dataframe\">\n",
       "  <thead>\n",
       "    <tr style=\"text-align: right;\">\n",
       "      <th></th>\n",
       "      <th>user_id</th>\n",
       "      <th>timestamp</th>\n",
       "      <th>group</th>\n",
       "      <th>landing_page</th>\n",
       "      <th>converted</th>\n",
       "    </tr>\n",
       "  </thead>\n",
       "  <tbody>\n",
       "    <tr>\n",
       "      <th>0</th>\n",
       "      <td>851104</td>\n",
       "      <td>2017-01-21 22:11:48.556739</td>\n",
       "      <td>control</td>\n",
       "      <td>old_page</td>\n",
       "      <td>0</td>\n",
       "    </tr>\n",
       "    <tr>\n",
       "      <th>1</th>\n",
       "      <td>804228</td>\n",
       "      <td>2017-01-12 08:01:45.159739</td>\n",
       "      <td>control</td>\n",
       "      <td>old_page</td>\n",
       "      <td>0</td>\n",
       "    </tr>\n",
       "    <tr>\n",
       "      <th>2</th>\n",
       "      <td>661590</td>\n",
       "      <td>2017-01-11 16:55:06.154213</td>\n",
       "      <td>treatment</td>\n",
       "      <td>new_page</td>\n",
       "      <td>0</td>\n",
       "    </tr>\n",
       "    <tr>\n",
       "      <th>3</th>\n",
       "      <td>853541</td>\n",
       "      <td>2017-01-08 18:28:03.143765</td>\n",
       "      <td>treatment</td>\n",
       "      <td>new_page</td>\n",
       "      <td>0</td>\n",
       "    </tr>\n",
       "    <tr>\n",
       "      <th>4</th>\n",
       "      <td>864975</td>\n",
       "      <td>2017-01-21 01:52:26.210827</td>\n",
       "      <td>control</td>\n",
       "      <td>old_page</td>\n",
       "      <td>1</td>\n",
       "    </tr>\n",
       "    <tr>\n",
       "      <th>...</th>\n",
       "      <td>...</td>\n",
       "      <td>...</td>\n",
       "      <td>...</td>\n",
       "      <td>...</td>\n",
       "      <td>...</td>\n",
       "    </tr>\n",
       "    <tr>\n",
       "      <th>294473</th>\n",
       "      <td>751197</td>\n",
       "      <td>2017-01-03 22:28:38.630509</td>\n",
       "      <td>control</td>\n",
       "      <td>old_page</td>\n",
       "      <td>0</td>\n",
       "    </tr>\n",
       "    <tr>\n",
       "      <th>294474</th>\n",
       "      <td>945152</td>\n",
       "      <td>2017-01-12 00:51:57.078372</td>\n",
       "      <td>control</td>\n",
       "      <td>old_page</td>\n",
       "      <td>0</td>\n",
       "    </tr>\n",
       "    <tr>\n",
       "      <th>294475</th>\n",
       "      <td>734608</td>\n",
       "      <td>2017-01-22 11:45:03.439544</td>\n",
       "      <td>control</td>\n",
       "      <td>old_page</td>\n",
       "      <td>0</td>\n",
       "    </tr>\n",
       "    <tr>\n",
       "      <th>294476</th>\n",
       "      <td>697314</td>\n",
       "      <td>2017-01-15 01:20:28.957438</td>\n",
       "      <td>control</td>\n",
       "      <td>old_page</td>\n",
       "      <td>0</td>\n",
       "    </tr>\n",
       "    <tr>\n",
       "      <th>294477</th>\n",
       "      <td>715931</td>\n",
       "      <td>2017-01-16 12:40:24.467417</td>\n",
       "      <td>treatment</td>\n",
       "      <td>new_page</td>\n",
       "      <td>0</td>\n",
       "    </tr>\n",
       "  </tbody>\n",
       "</table>\n",
       "<p>294478 rows × 5 columns</p>\n",
       "</div>"
      ],
      "text/plain": [
       "        user_id                   timestamp      group landing_page  converted\n",
       "0        851104  2017-01-21 22:11:48.556739    control     old_page          0\n",
       "1        804228  2017-01-12 08:01:45.159739    control     old_page          0\n",
       "2        661590  2017-01-11 16:55:06.154213  treatment     new_page          0\n",
       "3        853541  2017-01-08 18:28:03.143765  treatment     new_page          0\n",
       "4        864975  2017-01-21 01:52:26.210827    control     old_page          1\n",
       "...         ...                         ...        ...          ...        ...\n",
       "294473   751197  2017-01-03 22:28:38.630509    control     old_page          0\n",
       "294474   945152  2017-01-12 00:51:57.078372    control     old_page          0\n",
       "294475   734608  2017-01-22 11:45:03.439544    control     old_page          0\n",
       "294476   697314  2017-01-15 01:20:28.957438    control     old_page          0\n",
       "294477   715931  2017-01-16 12:40:24.467417  treatment     new_page          0\n",
       "\n",
       "[294478 rows x 5 columns]"
      ]
     },
     "execution_count": 2,
     "metadata": {},
     "output_type": "execute_result"
    }
   ],
   "source": [
    "# Import dataset\n",
    "df_raw = pd.read_csv(\"ab_data.csv\")\n",
    "\n",
    "# Print dataset\n",
    "df_raw"
   ]
  },
  {
   "cell_type": "code",
   "execution_count": 3,
   "id": "c3dca3b3",
   "metadata": {
    "ExecuteTime": {
     "end_time": "2023-03-18T18:46:25.878924Z",
     "start_time": "2023-03-18T18:46:25.790742Z"
    }
   },
   "outputs": [
    {
     "name": "stdout",
     "output_type": "stream",
     "text": [
      "<class 'pandas.core.frame.DataFrame'>\n",
      "RangeIndex: 294478 entries, 0 to 294477\n",
      "Data columns (total 5 columns):\n",
      " #   Column        Non-Null Count   Dtype \n",
      "---  ------        --------------   ----- \n",
      " 0   user_id       294478 non-null  int64 \n",
      " 1   timestamp     294478 non-null  object\n",
      " 2   group         294478 non-null  object\n",
      " 3   landing_page  294478 non-null  object\n",
      " 4   converted     294478 non-null  int64 \n",
      "dtypes: int64(2), object(3)\n",
      "memory usage: 11.2+ MB\n"
     ]
    }
   ],
   "source": [
    "# Print dF info\n",
    "df_raw.info()"
   ]
  },
  {
   "cell_type": "markdown",
   "id": "2979bccc",
   "metadata": {},
   "source": [
    "## Data Cleaning"
   ]
  },
  {
   "cell_type": "code",
   "execution_count": 4,
   "id": "c4a5ca94",
   "metadata": {
    "ExecuteTime": {
     "end_time": "2023-03-18T18:46:25.957435Z",
     "start_time": "2023-03-18T18:46:25.881587Z"
    }
   },
   "outputs": [
    {
     "name": "stdout",
     "output_type": "stream",
     "text": [
      "There are 3894 users that appear multiple times in the data\n"
     ]
    }
   ],
   "source": [
    "# Check multiple values\n",
    "multiple_sample = df_raw['user_id'].value_counts(ascending=False)\n",
    "multiple = multiple_sample[multiple_sample > 1].count()\n",
    "\n",
    "# Show how many multiple values in the dF\n",
    "print(f'There are {multiple} users that appear multiple times in the data')"
   ]
  },
  {
   "cell_type": "code",
   "execution_count": 5,
   "id": "824c3d86",
   "metadata": {
    "ExecuteTime": {
     "end_time": "2023-03-18T18:46:26.143769Z",
     "start_time": "2023-03-18T18:46:25.961471Z"
    }
   },
   "outputs": [
    {
     "data": {
      "text/html": [
       "<div>\n",
       "<style scoped>\n",
       "    .dataframe tbody tr th:only-of-type {\n",
       "        vertical-align: middle;\n",
       "    }\n",
       "\n",
       "    .dataframe tbody tr th {\n",
       "        vertical-align: top;\n",
       "    }\n",
       "\n",
       "    .dataframe thead th {\n",
       "        text-align: right;\n",
       "    }\n",
       "</style>\n",
       "<table border=\"1\" class=\"dataframe\">\n",
       "  <thead>\n",
       "    <tr style=\"text-align: right;\">\n",
       "      <th>landing_page</th>\n",
       "      <th>new_page</th>\n",
       "      <th>old_page</th>\n",
       "    </tr>\n",
       "    <tr>\n",
       "      <th>group</th>\n",
       "      <th></th>\n",
       "      <th></th>\n",
       "    </tr>\n",
       "  </thead>\n",
       "  <tbody>\n",
       "    <tr>\n",
       "      <th>control</th>\n",
       "      <td>1928</td>\n",
       "      <td>145274</td>\n",
       "    </tr>\n",
       "    <tr>\n",
       "      <th>treatment</th>\n",
       "      <td>145311</td>\n",
       "      <td>1965</td>\n",
       "    </tr>\n",
       "  </tbody>\n",
       "</table>\n",
       "</div>"
      ],
      "text/plain": [
       "landing_page  new_page  old_page\n",
       "group                           \n",
       "control           1928    145274\n",
       "treatment       145311      1965"
      ]
     },
     "execution_count": 5,
     "metadata": {},
     "output_type": "execute_result"
    }
   ],
   "source": [
    "# The result will tell us that there are some control group that visiting the new page & vice versa\n",
    "pd.crosstab(df_raw['group'], df_raw['landing_page'])"
   ]
  },
  {
   "cell_type": "code",
   "execution_count": 6,
   "id": "145f3cdc",
   "metadata": {
    "ExecuteTime": {
     "end_time": "2023-03-18T18:46:26.249060Z",
     "start_time": "2023-03-18T18:46:26.163793Z"
    }
   },
   "outputs": [
    {
     "name": "stdout",
     "output_type": "stream",
     "text": [
      "There are now 286690 entries for the test\n"
     ]
    }
   ],
   "source": [
    "# Removing multiple values in the data\n",
    "drop_multiple = multiple_sample[multiple_sample > 1].index\n",
    "df = df_raw[~df_raw['user_id'].isin(drop_multiple)]\n",
    "\n",
    "# Show how many values will be used for the test\n",
    "print(f'There are now {df.shape[0]} entries for the test')"
   ]
  },
  {
   "cell_type": "code",
   "execution_count": 7,
   "id": "ce10ef97",
   "metadata": {
    "ExecuteTime": {
     "end_time": "2023-03-18T18:46:26.341642Z",
     "start_time": "2023-03-18T18:46:26.253984Z"
    }
   },
   "outputs": [
    {
     "name": "stdout",
     "output_type": "stream",
     "text": [
      "There are 0 users that appear multiple times in the dataset\n"
     ]
    }
   ],
   "source": [
    "# Check values after dropping the multiple values\n",
    "session_counts = df['user_id'].value_counts(ascending=False)\n",
    "multi_users = session_counts[session_counts > 1].count()\n",
    "\n",
    "print(f'There are {multi_users} users that appear multiple times in the dataset')"
   ]
  },
  {
   "cell_type": "code",
   "execution_count": 8,
   "id": "7188f50e",
   "metadata": {
    "ExecuteTime": {
     "end_time": "2023-03-18T18:46:26.529451Z",
     "start_time": "2023-03-18T18:46:26.346205Z"
    }
   },
   "outputs": [
    {
     "data": {
      "text/html": [
       "<div>\n",
       "<style scoped>\n",
       "    .dataframe tbody tr th:only-of-type {\n",
       "        vertical-align: middle;\n",
       "    }\n",
       "\n",
       "    .dataframe tbody tr th {\n",
       "        vertical-align: top;\n",
       "    }\n",
       "\n",
       "    .dataframe thead th {\n",
       "        text-align: right;\n",
       "    }\n",
       "</style>\n",
       "<table border=\"1\" class=\"dataframe\">\n",
       "  <thead>\n",
       "    <tr style=\"text-align: right;\">\n",
       "      <th>landing_page</th>\n",
       "      <th>new_page</th>\n",
       "      <th>old_page</th>\n",
       "    </tr>\n",
       "    <tr>\n",
       "      <th>group</th>\n",
       "      <th></th>\n",
       "      <th></th>\n",
       "    </tr>\n",
       "  </thead>\n",
       "  <tbody>\n",
       "    <tr>\n",
       "      <th>control</th>\n",
       "      <td>0</td>\n",
       "      <td>143293</td>\n",
       "    </tr>\n",
       "    <tr>\n",
       "      <th>treatment</th>\n",
       "      <td>143397</td>\n",
       "      <td>0</td>\n",
       "    </tr>\n",
       "  </tbody>\n",
       "</table>\n",
       "</div>"
      ],
      "text/plain": [
       "landing_page  new_page  old_page\n",
       "group                           \n",
       "control              0    143293\n",
       "treatment       143397         0"
      ]
     },
     "execution_count": 8,
     "metadata": {},
     "output_type": "execute_result"
    }
   ],
   "source": [
    "# The result will tell us that the control group are seeing only the old page & vice versa\n",
    "pd.crosstab(df['group'], df['landing_page'])"
   ]
  },
  {
   "cell_type": "markdown",
   "id": "dcdaf057",
   "metadata": {},
   "source": [
    "## Determining the Number of Samples"
   ]
  },
  {
   "cell_type": "code",
   "execution_count": 9,
   "id": "9d8e1a19",
   "metadata": {
    "ExecuteTime": {
     "end_time": "2023-03-18T18:46:26.574819Z",
     "start_time": "2023-03-18T18:46:26.538112Z"
    }
   },
   "outputs": [
    {
     "name": "stdout",
     "output_type": "stream",
     "text": [
      "6036\n"
     ]
    }
   ],
   "source": [
    "# Calculate effect size\n",
    "# - Hypothetical current CR = 18%\n",
    "# - Hypothetical expected CR = 20%\n",
    "effect = sms.proportion_effectsize(0.18, 0.20)\n",
    "\n",
    "# Calculate required sample\n",
    "n_sample = sms.NormalIndPower().solve_power(effect,\n",
    "                                            power=0.8,\n",
    "                                            alpha=0.05,\n",
    "                                            ratio=1)\n",
    "\n",
    "# Round the number up\n",
    "n_sample = ceil(n_sample)\n",
    "\n",
    "# Show how many required samples\n",
    "print(n_sample)"
   ]
  },
  {
   "cell_type": "markdown",
   "id": "8d93efde",
   "metadata": {},
   "source": [
    "## Sampling"
   ]
  },
  {
   "cell_type": "code",
   "execution_count": 10,
   "id": "f4ce5f33",
   "metadata": {
    "ExecuteTime": {
     "end_time": "2023-03-18T18:46:26.792468Z",
     "start_time": "2023-03-18T18:46:26.578866Z"
    }
   },
   "outputs": [
    {
     "data": {
      "text/html": [
       "<div>\n",
       "<style scoped>\n",
       "    .dataframe tbody tr th:only-of-type {\n",
       "        vertical-align: middle;\n",
       "    }\n",
       "\n",
       "    .dataframe tbody tr th {\n",
       "        vertical-align: top;\n",
       "    }\n",
       "\n",
       "    .dataframe thead th {\n",
       "        text-align: right;\n",
       "    }\n",
       "</style>\n",
       "<table border=\"1\" class=\"dataframe\">\n",
       "  <thead>\n",
       "    <tr style=\"text-align: right;\">\n",
       "      <th></th>\n",
       "      <th>user_id</th>\n",
       "      <th>timestamp</th>\n",
       "      <th>group</th>\n",
       "      <th>landing_page</th>\n",
       "      <th>converted</th>\n",
       "    </tr>\n",
       "  </thead>\n",
       "  <tbody>\n",
       "    <tr>\n",
       "      <th>0</th>\n",
       "      <td>927583</td>\n",
       "      <td>2017-01-19 19:27:50.749807</td>\n",
       "      <td>control</td>\n",
       "      <td>old_page</td>\n",
       "      <td>0</td>\n",
       "    </tr>\n",
       "    <tr>\n",
       "      <th>1</th>\n",
       "      <td>844382</td>\n",
       "      <td>2017-01-03 10:31:08.462533</td>\n",
       "      <td>control</td>\n",
       "      <td>old_page</td>\n",
       "      <td>0</td>\n",
       "    </tr>\n",
       "    <tr>\n",
       "      <th>2</th>\n",
       "      <td>677439</td>\n",
       "      <td>2017-01-12 04:29:26.875140</td>\n",
       "      <td>control</td>\n",
       "      <td>old_page</td>\n",
       "      <td>0</td>\n",
       "    </tr>\n",
       "    <tr>\n",
       "      <th>3</th>\n",
       "      <td>630786</td>\n",
       "      <td>2017-01-22 03:15:20.594021</td>\n",
       "      <td>control</td>\n",
       "      <td>old_page</td>\n",
       "      <td>0</td>\n",
       "    </tr>\n",
       "    <tr>\n",
       "      <th>4</th>\n",
       "      <td>768826</td>\n",
       "      <td>2017-01-24 12:24:32.485732</td>\n",
       "      <td>control</td>\n",
       "      <td>old_page</td>\n",
       "      <td>0</td>\n",
       "    </tr>\n",
       "    <tr>\n",
       "      <th>...</th>\n",
       "      <td>...</td>\n",
       "      <td>...</td>\n",
       "      <td>...</td>\n",
       "      <td>...</td>\n",
       "      <td>...</td>\n",
       "    </tr>\n",
       "    <tr>\n",
       "      <th>12067</th>\n",
       "      <td>901906</td>\n",
       "      <td>2017-01-03 01:38:41.588713</td>\n",
       "      <td>treatment</td>\n",
       "      <td>new_page</td>\n",
       "      <td>0</td>\n",
       "    </tr>\n",
       "    <tr>\n",
       "      <th>12068</th>\n",
       "      <td>668695</td>\n",
       "      <td>2017-01-02 18:22:08.021072</td>\n",
       "      <td>treatment</td>\n",
       "      <td>new_page</td>\n",
       "      <td>0</td>\n",
       "    </tr>\n",
       "    <tr>\n",
       "      <th>12069</th>\n",
       "      <td>902403</td>\n",
       "      <td>2017-01-22 22:21:01.549027</td>\n",
       "      <td>treatment</td>\n",
       "      <td>new_page</td>\n",
       "      <td>0</td>\n",
       "    </tr>\n",
       "    <tr>\n",
       "      <th>12070</th>\n",
       "      <td>848269</td>\n",
       "      <td>2017-01-08 15:16:35.207407</td>\n",
       "      <td>treatment</td>\n",
       "      <td>new_page</td>\n",
       "      <td>1</td>\n",
       "    </tr>\n",
       "    <tr>\n",
       "      <th>12071</th>\n",
       "      <td>700109</td>\n",
       "      <td>2017-01-02 17:46:01.458527</td>\n",
       "      <td>treatment</td>\n",
       "      <td>new_page</td>\n",
       "      <td>0</td>\n",
       "    </tr>\n",
       "  </tbody>\n",
       "</table>\n",
       "<p>12072 rows × 5 columns</p>\n",
       "</div>"
      ],
      "text/plain": [
       "       user_id                   timestamp      group landing_page  converted\n",
       "0       927583  2017-01-19 19:27:50.749807    control     old_page          0\n",
       "1       844382  2017-01-03 10:31:08.462533    control     old_page          0\n",
       "2       677439  2017-01-12 04:29:26.875140    control     old_page          0\n",
       "3       630786  2017-01-22 03:15:20.594021    control     old_page          0\n",
       "4       768826  2017-01-24 12:24:32.485732    control     old_page          0\n",
       "...        ...                         ...        ...          ...        ...\n",
       "12067   901906  2017-01-03 01:38:41.588713  treatment     new_page          0\n",
       "12068   668695  2017-01-02 18:22:08.021072  treatment     new_page          0\n",
       "12069   902403  2017-01-22 22:21:01.549027  treatment     new_page          0\n",
       "12070   848269  2017-01-08 15:16:35.207407  treatment     new_page          1\n",
       "12071   700109  2017-01-02 17:46:01.458527  treatment     new_page          0\n",
       "\n",
       "[12072 rows x 5 columns]"
      ]
     },
     "execution_count": 10,
     "metadata": {},
     "output_type": "execute_result"
    }
   ],
   "source": [
    "# Sampling to control group\n",
    "# - Randomly sample n_sample number of data from control group\n",
    "# - Set random seed to 6 for reproducibility\n",
    "control_group = df[df['group'] == 'control'].sample(n=n_sample, random_state=6)\n",
    "\n",
    "# Sampling to treatment group\n",
    "# - Randomly sample n_sample number of data from treatment group\n",
    "# - Set random seed to 6 for reproducibility\n",
    "treatment_group = df[df['group'] == 'treatment'].sample(n=n_sample, random_state=6)\n",
    "\n",
    "# A/B test dataframe\n",
    "# - Concatenate control and treatment group samples into one dataframe\n",
    "ab = pd.concat([control_group, treatment_group], axis=0)\n",
    "\n",
    "# Reset index\n",
    "# - Resets index to consecutive numbers\n",
    "ab.reset_index(drop=True, inplace=True)\n",
    "\n",
    "# Show result\n",
    "ab"
   ]
  },
  {
   "cell_type": "code",
   "execution_count": 11,
   "id": "a721f4b6",
   "metadata": {
    "ExecuteTime": {
     "end_time": "2023-03-18T18:46:26.822917Z",
     "start_time": "2023-03-18T18:46:26.799020Z"
    }
   },
   "outputs": [
    {
     "data": {
      "text/plain": [
       "control      6036\n",
       "treatment    6036\n",
       "Name: group, dtype: int64"
      ]
     },
     "execution_count": 11,
     "metadata": {},
     "output_type": "execute_result"
    }
   ],
   "source": [
    "# Check how many control and treatment group that are being sampled\n",
    "# The result should be the same as the required samples which is 6036\n",
    "ab['group'].value_counts()"
   ]
  },
  {
   "cell_type": "markdown",
   "id": "f0f7dbfb",
   "metadata": {},
   "source": [
    "## Statistics & Analysis"
   ]
  },
  {
   "cell_type": "code",
   "execution_count": 12,
   "id": "237826b2",
   "metadata": {
    "ExecuteTime": {
     "end_time": "2023-03-18T18:46:27.102567Z",
     "start_time": "2023-03-18T18:46:26.826917Z"
    }
   },
   "outputs": [
    {
     "data": {
      "text/html": [
       "<style type=\"text/css\">\n",
       "</style>\n",
       "<table id=\"T_d78d7_\">\n",
       "  <thead>\n",
       "    <tr>\n",
       "      <th class=\"blank level0\" >&nbsp;</th>\n",
       "      <th class=\"col_heading level0 col0\" >conversion_rate</th>\n",
       "      <th class=\"col_heading level0 col1\" >standard_deviation</th>\n",
       "      <th class=\"col_heading level0 col2\" >standard_error</th>\n",
       "    </tr>\n",
       "    <tr>\n",
       "      <th class=\"index_name level0\" >group</th>\n",
       "      <th class=\"blank col0\" >&nbsp;</th>\n",
       "      <th class=\"blank col1\" >&nbsp;</th>\n",
       "      <th class=\"blank col2\" >&nbsp;</th>\n",
       "    </tr>\n",
       "  </thead>\n",
       "  <tbody>\n",
       "    <tr>\n",
       "      <th id=\"T_d78d7_level0_row0\" class=\"row_heading level0 row0\" >control</th>\n",
       "      <td id=\"T_d78d7_row0_col0\" class=\"data row0 col0\" >0.117</td>\n",
       "      <td id=\"T_d78d7_row0_col1\" class=\"data row0 col1\" >0.321</td>\n",
       "      <td id=\"T_d78d7_row0_col2\" class=\"data row0 col2\" >0.004</td>\n",
       "    </tr>\n",
       "    <tr>\n",
       "      <th id=\"T_d78d7_level0_row1\" class=\"row_heading level0 row1\" >treatment</th>\n",
       "      <td id=\"T_d78d7_row1_col0\" class=\"data row1 col0\" >0.116</td>\n",
       "      <td id=\"T_d78d7_row1_col1\" class=\"data row1 col1\" >0.320</td>\n",
       "      <td id=\"T_d78d7_row1_col2\" class=\"data row1 col2\" >0.004</td>\n",
       "    </tr>\n",
       "  </tbody>\n",
       "</table>\n"
      ],
      "text/plain": [
       "<pandas.io.formats.style.Styler at 0x24b6a581760>"
      ]
     },
     "execution_count": 12,
     "metadata": {},
     "output_type": "execute_result"
    }
   ],
   "source": [
    "# Create conversion rate dF\n",
    "cr = ab.groupby('group')['converted']\n",
    "\n",
    "# Calculate standard deviation\n",
    "std = lambda x: np.std(x, ddof=0)\n",
    "\n",
    "# Calculate standard error mean\n",
    "se = lambda x: stats.sem(x, ddof=0)\n",
    "\n",
    "# Aggregate dF & show dF\n",
    "cr = cr.agg([np.mean, std, se])\n",
    "cr.columns = ['conversion_rate', 'standard_deviation', 'standard_error']\n",
    "cr.style.format('{:.3f}')"
   ]
  },
  {
   "cell_type": "code",
   "execution_count": 13,
   "id": "3ddfa62e",
   "metadata": {
    "ExecuteTime": {
     "end_time": "2023-03-18T18:46:27.847166Z",
     "start_time": "2023-03-18T18:46:27.107585Z"
    }
   },
   "outputs": [
    {
     "data": {
      "image/png": "[encoded data removed]",
      "text/plain": [
       "<Figure size 432x288 with 1 Axes>"
      ]
     },
     "metadata": {},
     "output_type": "display_data"
    }
   ],
   "source": [
    "# Visualization\n",
    "sns.set_style('whitegrid')\n",
    "sns.barplot(x=ab['group'], y=ab['converted'], ci=False)\n",
    "\n",
    "plt.ylim(0, 0.16)\n",
    "plt.title(\"Conversion rate per group\", pad=15)\n",
    "plt.xlabel(\"Group\", labelpad=15)\n",
    "plt.ylabel(\"Converted\", labelpad=15)\n",
    "plt.show()"
   ]
  },
  {
   "cell_type": "markdown",
   "id": "0989c80f",
   "metadata": {},
   "source": [
    "## Hypothesis Testing"
   ]
  },
  {
   "cell_type": "code",
   "execution_count": 14,
   "id": "7489652c",
   "metadata": {
    "ExecuteTime": {
     "end_time": "2023-03-18T18:46:27.893814Z",
     "start_time": "2023-03-18T18:46:27.850221Z"
    }
   },
   "outputs": [
    {
     "name": "stdout",
     "output_type": "stream",
     "text": [
      "Z-score (Standard Score): 0.09\n",
      "P-value: 0.932\n",
      "CI 95% (Control Group): [0.109, 0.125]\n",
      "CI 95% for (Treatment Group): [0.108, 0.124]\n",
      "The null hypothesis is accepted\n"
     ]
    }
   ],
   "source": [
    "# Filter the group\n",
    "# Select control and treatment groups from ab dataframe\n",
    "control_test = ab[ab['group'] == 'control']['converted']\n",
    "treatment_test = ab[ab['group'] == 'treatment']['converted']\n",
    "\n",
    "# Get the sample size of each group\n",
    "n_control = control_test.count()\n",
    "n_treatment = treatment_test.count()\n",
    "\n",
    "# Calculate statistics for Z-score, P-value, and Confidence Interval\n",
    "# Count the number of successes (converted) and number of trials (total number of samples) for each group\n",
    "successes_probability = [control_test.sum(), treatment_test.sum()]\n",
    "number_of_trials = [n_control, n_treatment]\n",
    "\n",
    "# Calculate Z-score and P-value using the two-proportion z-test\n",
    "z_stats, pvalue = proportions_ztest(successes_probability, nobs=number_of_trials)\n",
    "\n",
    "# Calculate the confidence intervals for each group using the two-proportion z-test\n",
    "(lower_control, lower_treatment), (upper_control, upper_treatment) = proportion_confint(successes_probability,\n",
    "                                                                                        nobs=number_of_trials,\n",
    "                                                                                        alpha=0.05)\n",
    "\n",
    "# Print the results\n",
    "print(f'Z-score (Standard Score): {z_stats:.2f}')\n",
    "print(f'P-value: {pvalue:.3f}')\n",
    "print(f'CI 95% (Control Group): [{lower_control:.3f}, {upper_control:.3f}]')\n",
    "print(f'CI 95% for (Treatment Group): [{lower_treatment:.3f}, {upper_treatment:.3f}]')\n",
    "\n",
    "# Interpret the results based on the p-value\n",
    "if pvalue < 0.05:\n",
    "    print(\"The null hypothesis is rejected\")\n",
    "else:\n",
    "    print(\"The null hypothesis is accepted\")"
   ]
  }
 ],
 "metadata": {
  "kernelspec": {
   "display_name": "Python 3 (ipykernel)",
   "language": "python",
   "name": "python3"
  },
  "language_info": {
   "codemirror_mode": {
    "name": "ipython",
    "version": 3
   },
   "file_extension": ".py",
   "mimetype": "text/x-python",
   "name": "python",
   "nbconvert_exporter": "python",
   "pygments_lexer": "ipython3",
   "version": "3.9.7"
  }
 },
 "nbformat": 4,
 "nbformat_minor": 5
}
